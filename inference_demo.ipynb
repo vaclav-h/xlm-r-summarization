{
 "cells": [
  {
   "cell_type": "code",
   "execution_count": 1,
   "id": "8514968d",
   "metadata": {},
   "outputs": [],
   "source": [
    "from model import XLMRobertaExtModel\n",
    "from transformers import XLMRobertaTokenizerFast, logging\n",
    "from utils import extract\n",
    "\n",
    "logging.set_verbosity_error()"
   ]
  },
  {
   "cell_type": "code",
   "execution_count": 2,
   "id": "b83db636",
   "metadata": {
    "scrolled": true
   },
   "outputs": [],
   "source": [
    "model = XLMRobertaExtModel(checkpoint=\"/path/to/finetuned/model.pt\").cuda()"
   ]
  },
  {
   "cell_type": "code",
   "execution_count": 3,
   "id": "0da68970",
   "metadata": {},
   "outputs": [],
   "source": [
    "tokenizer = XLMRobertaTokenizerFast.from_pretrained(\"xlm-roberta-large\")"
   ]
  },
  {
   "cell_type": "code",
   "execution_count": 4,
   "id": "336a125c",
   "metadata": {},
   "outputs": [],
   "source": [
    "text = \"\"\"\n",
    "        V lednu banka informovala, že měla účetní ztrátu 411,8 miliardy korun.\n",
    "        Tehdy šlo ovšem o předběžný výsledek, ve kterém nebyly zahrnuty všechny dodatkové operace za rok 2022.\n",
    "        Největší část finanční ztráty, 207,7 miliardy korun, vznikla v kapitole správy devizových rezerv.\n",
    "        V souvislosti se zvyšováním úrokových sazeb ČNB v první polovině roku zaznamenala také růst nákladů na měnové operace.\n",
    "        To zatížilo hospodaření banky úrokovými náklady vyplacenými obchodním bankám za 159,6 miliard korun, o rok dříve to bylo 24,4 miliardy.\n",
    "        Růst domácí cenové hladiny se promítl i do provozních nákladů ČNB.\n",
    "        Provozní hospodaření skončilo ve ztrátě tři miliardy korun, v roce 2021 to bylo 2,6 miliardy.\n",
    "        ČNB v závěrce uvedla, že se snaží o efektivnější vynakládání peněz na provoz, když zpomalila mzdový růst zaměstnanců a zmrazila platy členů bankovní rady.\n",
    "        Kumulovaná ztráta ČNB vzrostla na 487,1 miliardy korun. Tuto ztrátu plánuje centrální banka uhradit z budoucích zisků.\n",
    "        Centrální banka dlouhodobě upozorňuje na to, že vytváření zisku není její hlavní úlohou.\n",
    "        Tou je péče o cenovou a finanční stabilitu.\n",
    "        Podle analytiků neznamená ztráta problém pro fungování ČNB.\n",
    "        ČNB určuje měnovou politiku, pečuje o finanční stabilitu, vydává bankovky a mince, řídí peněžní oběh, platební styk a zúčtování bank.\n",
    "        Vykonává i dohled nad bankovním sektorem, kapitálovým trhem, pojišťovnictvím, penzijním připojištěním, družstevními záložnami a institucemi elektronických peněz a devizový dohled.\n",
    "       \"\"\""
   ]
  },
  {
   "cell_type": "code",
   "execution_count": 5,
   "id": "63249799",
   "metadata": {},
   "outputs": [
    {
     "data": {
      "text/plain": [
       "'V lednu banka informovala, že měla účetní ztrátu 411,8 miliardy korun. Největší část finanční ztráty, 207,7 miliardy korun, vznikla v kapitole správy devizových rezerv. Kumulovaná ztráta ČNB vzrostla na 487,1 miliardy korun.'"
      ]
     },
     "execution_count": 5,
     "metadata": {},
     "output_type": "execute_result"
    }
   ],
   "source": [
    "extract(model, tokenizer, text, n_sent=3)"
   ]
  },
  {
   "cell_type": "code",
   "execution_count": null,
   "id": "06ce7460",
   "metadata": {},
   "outputs": [],
   "source": []
  }
 ],
 "metadata": {
  "kernelspec": {
   "display_name": "venv39",
   "language": "python",
   "name": "venv39"
  },
  "language_info": {
   "codemirror_mode": {
    "name": "ipython",
    "version": 3
   },
   "file_extension": ".py",
   "mimetype": "text/x-python",
   "name": "python",
   "nbconvert_exporter": "python",
   "pygments_lexer": "ipython3",
   "version": "3.9.6"
  }
 },
 "nbformat": 4,
 "nbformat_minor": 5
}
